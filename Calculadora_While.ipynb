{
  "nbformat": 4,
  "nbformat_minor": 0,
  "metadata": {
    "colab": {
      "provenance": [],
      "authorship_tag": "ABX9TyMMhd9+ij7MJkqW14g+Orb0",
      "include_colab_link": true
    },
    "kernelspec": {
      "name": "python3",
      "display_name": "Python 3"
    },
    "language_info": {
      "name": "python"
    }
  },
  "cells": [
    {
      "cell_type": "markdown",
      "metadata": {
        "id": "view-in-github",
        "colab_type": "text"
      },
      "source": [
        "<a href=\"https://colab.research.google.com/github/claudinez/Python_Atividade/blob/main/Calculadora_While.ipynb\" target=\"_parent\"><img src=\"https://colab.research.google.com/assets/colab-badge.svg\" alt=\"Open In Colab\"/></a>"
      ]
    },
    {
      "cell_type": "code",
      "execution_count": 1,
      "metadata": {
        "colab": {
          "base_uri": "https://localhost:8080/"
        },
        "id": "hCDtn3lZ7UKz",
        "outputId": "7f7540f3-8e42-4a03-e409-bbe8a8d5f5ac"
      },
      "outputs": [
        {
          "output_type": "stream",
          "name": "stdout",
          "text": [
            "Selecione a operação:\n",
            "1: Soma\n",
            "2: Subtração\n",
            "3: Multiplicação\n",
            "4: Divisão\n",
            "0: Sair\n",
            "Digite o número para a operação correspondente: 1\n",
            "Digite o primeiro valor: 2\n",
            "Digite o segundo valor: 3\n",
            "Resultado:  5.0\n",
            "Selecione a operação:\n",
            "1: Soma\n",
            "2: Subtração\n",
            "3: Multiplicação\n",
            "4: Divisão\n",
            "0: Sair\n",
            "Digite o número para a operação correspondente: 2\n",
            "Digite o primeiro valor: 6\n",
            "Digite o segundo valor: 7\n",
            "Resultado:  -1.0\n",
            "Selecione a operação:\n",
            "1: Soma\n",
            "2: Subtração\n",
            "3: Multiplicação\n",
            "4: Divisão\n",
            "0: Sair\n",
            "Digite o número para a operação correspondente: 0\n",
            "Saindo da calculadora.\n"
          ]
        }
      ],
      "source": [
        "def soma(a, b):\n",
        "    return a + b\n",
        "\n",
        "def subtracao(a, b):\n",
        "    return a - b\n",
        "\n",
        "def multiplicacao(a, b):\n",
        "    return a * b\n",
        "\n",
        "def divisao(a, b):\n",
        "    if b == 0:\n",
        "        return \"Erro: divisão por zero\"\n",
        "    return a / b\n",
        "\n",
        "while True:\n",
        "    print(\"Selecione a operação:\")\n",
        "    print(\"1: Soma\")\n",
        "    print(\"2: Subtração\")\n",
        "    print(\"3: Multiplicação\")\n",
        "    print(\"4: Divisão\")\n",
        "    print(\"0: Sair\")\n",
        "\n",
        "    escolha = input(\"Digite o número para a operação correspondente: \")\n",
        "\n",
        "    if escolha == '0':\n",
        "        print(\"Saindo da calculadora.\")\n",
        "        break\n",
        "    elif escolha in ('1', '2', '3', '4'):\n",
        "        num1 = float(input(\"Digite o primeiro valor: \"))\n",
        "        num2 = float(input(\"Digite o segundo valor: \"))\n",
        "\n",
        "        if escolha == '1':\n",
        "            resultado = soma(num1, num2)\n",
        "        elif escolha == '2':\n",
        "            resultado = subtracao(num1, num2)\n",
        "        elif escolha == '3':\n",
        "            resultado = multiplicacao(num1, num2)\n",
        "        elif escolha == '4':\n",
        "            resultado = divisao(num1, num2)\n",
        "\n",
        "        print(\"Resultado: \", resultado)\n",
        "    else:\n",
        "        print(\"Essa opção não existe. Tente novamente.\")\n"
      ]
    }
  ]
}