{
  "nbformat": 4,
  "nbformat_minor": 0,
  "metadata": {
    "colab": {
      "provenance": [],
      "authorship_tag": "ABX9TyO+z2i5lE89/UjcLSxGTGHd",
      "include_colab_link": true
    },
    "kernelspec": {
      "name": "python3",
      "display_name": "Python 3"
    },
    "language_info": {
      "name": "python"
    }
  },
  "cells": [
    {
      "cell_type": "markdown",
      "metadata": {
        "id": "view-in-github",
        "colab_type": "text"
      },
      "source": [
        "<a href=\"https://colab.research.google.com/github/claudinez/Python_Atividade/blob/main/Exercicio_While_For_Diferentes_Situacao.ipynb\" target=\"_parent\"><img src=\"https://colab.research.google.com/assets/colab-badge.svg\" alt=\"Open In Colab\"/></a>"
      ]
    },
    {
      "cell_type": "code",
      "execution_count": 1,
      "metadata": {
        "colab": {
          "base_uri": "https://localhost:8080/"
        },
        "id": "k8Z1RuneBExu",
        "outputId": "753a666b-42ec-46ad-956f-b732194bc340"
      },
      "outputs": [
        {
          "output_type": "stream",
          "name": "stdout",
          "text": [
            "5-cenoura\n",
            "4-batata\n",
            "3-tomate\n",
            "2-cenoura\n",
            "1-batata\n",
            "0-tomate\n"
          ]
        }
      ],
      "source": [
        "#E agora, só por diversão mesmo, você acha que consegue fazer que o robô as plantas de trás pra frente? Ou seja começando pela número 5 e indo até a número 0.\n",
        "#0-tomate\n",
        "#1-batata\n",
        "#2-cenoura\n",
        "#3-tomate\n",
        "#4-batata\n",
        "#5-cenoura\n",
        "\n",
        "# Defina a lista de plantas começando de tras para frente WHILE\n",
        "plantas = [\"tomate\", \"batata\", \"cenoura\", \"tomate\", \"batata\", \"cenoura\"]\n",
        "\n",
        "# Inicialize o índice com o valor 5 (a última posição)\n",
        "indice = 5\n",
        "\n",
        "# Use um loop while para percorrer a lista de trás para frente\n",
        "while indice >= 0:\n",
        "    print(f\"{indice}-{plantas[indice]}\")\n",
        "    indice -= 1\n"
      ]
    },
    {
      "cell_type": "code",
      "source": [
        "# Defina a lista de plantas imprindo do maior para o menor repetição FOR\n",
        "plantas = [\"tomate\", \"batata\", \"cenoura\", \"tomate\", \"batata\", \"cenoura\"]\n",
        "\n",
        "# Use um loop for para percorrer a lista de trás para frente\n",
        "for indice in range(5, -1, -1):\n",
        "    print(f\"{indice}-{plantas[indice]}\")\n"
      ],
      "metadata": {
        "colab": {
          "base_uri": "https://localhost:8080/"
        },
        "id": "oJCC7dZcBdk0",
        "outputId": "7b8d55b0-84d9-436a-946d-580ad7d443a6"
      },
      "execution_count": 2,
      "outputs": [
        {
          "output_type": "stream",
          "name": "stdout",
          "text": [
            "5-cenoura\n",
            "4-batata\n",
            "3-tomate\n",
            "2-cenoura\n",
            "1-batata\n",
            "0-tomate\n"
          ]
        }
      ]
    },
    {
      "cell_type": "code",
      "source": [
        "#Agora é terça-feira, então precisamos regar só os tomates.\n",
        "#Mas cuidado! Alguém mexeu na ordem dos vasos novamente\n",
        "#(Estamos procurando o responsavel)\n",
        "\n",
        "#0-tomate\n",
        "#1-tomate\n",
        "#2-batata\n",
        "#3-batata\n",
        "#4-tomate\n",
        "#5-tomate\n",
        "\n",
        "# Defina a lista de plantas e rega só os tomates na terça-feira repetição WHILE\n",
        "plantas = [\"tomate\", \"tomate\", \"batata\", \"batata\", \"tomate\", \"tomate\"]\n",
        "\n",
        "# Inicialize um índice para percorrer a lista\n",
        "indice = 0\n",
        "\n",
        "# Dia da semana (terça-feira)\n",
        "dia_da_semana = \"terça-feira\"\n",
        "\n",
        "# Use um loop while para percorrer a lista e regar os tomates na terça-feira\n",
        "while indice < len(plantas):\n",
        "    planta = plantas[indice]\n",
        "    if dia_da_semana == \"terça-feira\" and planta == \"tomate\":\n",
        "        print(f\"Regando o vaso {indice}-{planta}\")\n",
        "    indice += 1\n"
      ],
      "metadata": {
        "colab": {
          "base_uri": "https://localhost:8080/"
        },
        "id": "2QZ0VjQbCsV4",
        "outputId": "18e16d54-4816-4beb-9816-0d9d66db9c52"
      },
      "execution_count": 3,
      "outputs": [
        {
          "output_type": "stream",
          "name": "stdout",
          "text": [
            "Regando o vaso 0-tomate\n",
            "Regando o vaso 1-tomate\n",
            "Regando o vaso 4-tomate\n",
            "Regando o vaso 5-tomate\n"
          ]
        }
      ]
    },
    {
      "cell_type": "code",
      "source": [
        "# Defina a lista de plantas regar os tomates na terça-feira repetição FOR\n",
        "plantas = [\"tomate\", \"tomate\", \"batata\", \"batata\", \"tomate\", \"tomate\"]\n",
        "\n",
        "# Dia da semana (terça-feira)\n",
        "dia_da_semana = \"terça-feira\"\n",
        "\n",
        "# Use um loop for para percorrer a lista e regar os tomates na terça-feira\n",
        "for indice, planta in enumerate(plantas):\n",
        "    if dia_da_semana == \"terça-feira\" and planta == \"tomate\":\n",
        "        print(f\"Regando o vaso {indice}-{planta}\")\n"
      ],
      "metadata": {
        "colab": {
          "base_uri": "https://localhost:8080/"
        },
        "id": "Pw4hjtANC-4z",
        "outputId": "4c4c79a1-3753-4c74-bd38-2a0e5b55c6dd"
      },
      "execution_count": 5,
      "outputs": [
        {
          "output_type": "stream",
          "name": "stdout",
          "text": [
            "Regando o vaso 0-tomate\n",
            "Regando o vaso 1-tomate\n",
            "Regando o vaso 4-tomate\n",
            "Regando o vaso 5-tomate\n"
          ]
        }
      ]
    },
    {
      "cell_type": "code",
      "source": [
        "#Dessa vez também só precisamos regar as batatas, porém alguém deixou elas arrumadas de uma forma diferentes\n",
        "#0-tomate\n",
        "#1-tomate\n",
        "#2-tomate\n",
        "#3-batata\n",
        "#4-batata\n",
        "#5-batata\n",
        "\n",
        "# Defina a lista de plantas regrar as batatas repetição While\n",
        "plantas = [\"tomate\", \"tomate\", \"tomate\", \"batata\", \"batata\", \"batata\"]\n",
        "\n",
        "# Inicialize um índice para percorrer a lista\n",
        "indice = 0\n",
        "\n",
        "# Use um loop while para percorrer a lista e regar as batatas\n",
        "while indice < len(plantas):\n",
        "    planta = plantas[indice]\n",
        "    if planta == \"batata\":\n",
        "        print(f\"Regando o vaso {indice}-{planta}\")\n",
        "    indice += 1\n"
      ],
      "metadata": {
        "colab": {
          "base_uri": "https://localhost:8080/"
        },
        "id": "VLyrHSq_TrVV",
        "outputId": "e72d036c-1a44-4426-bfb0-61becbe5dd40"
      },
      "execution_count": 6,
      "outputs": [
        {
          "output_type": "stream",
          "name": "stdout",
          "text": [
            "Regando o vaso 3-batata\n",
            "Regando o vaso 4-batata\n",
            "Regando o vaso 5-batata\n"
          ]
        }
      ]
    },
    {
      "cell_type": "code",
      "source": [
        "# Defina a lista de plantas regrar as batatas repetição for\n",
        "plantas = [\"tomate\", \"tomate\", \"tomate\", \"batata\", \"batata\", \"batata\"]\n",
        "\n",
        "# Use um loop for para percorrer a lista e regar as batatas\n",
        "for indice, planta in enumerate(plantas):\n",
        "    if planta == \"batata\":\n",
        "        print(f\"Regando o vaso {indice}-{planta}\")\n"
      ],
      "metadata": {
        "colab": {
          "base_uri": "https://localhost:8080/"
        },
        "id": "AIRY_p5vT19W",
        "outputId": "7a9623f5-437c-496b-8d3e-b87d539d1c0e"
      },
      "execution_count": 7,
      "outputs": [
        {
          "output_type": "stream",
          "name": "stdout",
          "text": [
            "Regando o vaso 3-batata\n",
            "Regando o vaso 4-batata\n",
            "Regando o vaso 5-batata\n"
          ]
        }
      ]
    },
    {
      "cell_type": "code",
      "source": [
        "#Nessa Leva só temos tomates e batatas. Porém, as batatas já foram regadas ontem, então só precisamos regar os tomates.\n",
        "\n",
        "#0-tomate\n",
        "#1-batata\n",
        "#2-tomate\n",
        "#3-batata\n",
        "#4-tomate\n",
        "#5-batata\n",
        "# Defina a lista de plantas\n",
        "plantas = [\"tomate\", \"batata\", \"tomate\", \"batata\", \"tomate\", \"batata\"]\n",
        "\n",
        "# Inicialize um índice para percorrer a lista\n",
        "indice = 0\n",
        "\n",
        "# Use um loop while para percorrer a lista e regar os tomates\n",
        "while indice < len(plantas):\n",
        "    planta = plantas[indice]\n",
        "    if planta == \"tomate\":\n",
        "        print(f\"Regando o vaso {indice}-{planta}\")\n",
        "    indice += 1\n"
      ],
      "metadata": {
        "colab": {
          "base_uri": "https://localhost:8080/"
        },
        "id": "XhAkfTSkU5W1",
        "outputId": "5d3c12d6-7828-4dad-c978-d8c963f6c6ed"
      },
      "execution_count": 10,
      "outputs": [
        {
          "output_type": "stream",
          "name": "stdout",
          "text": [
            "Regando o vaso 0-tomate\n",
            "Regando o vaso 2-tomate\n",
            "Regando o vaso 4-tomate\n"
          ]
        }
      ]
    },
    {
      "cell_type": "code",
      "source": [
        "# Defina a lista de plantas\n",
        "plantas = [\"tomate\", \"batata\", \"tomate\", \"batata\", \"tomate\", \"batata\"]\n",
        "\n",
        "# Use um loop for para percorrer a lista e regar os tomates\n",
        "for indice, planta in enumerate(plantas):\n",
        "    if planta == \"tomate\":\n",
        "        print(f\"Regando o vaso {indice}-{planta}\")\n"
      ],
      "metadata": {
        "colab": {
          "base_uri": "https://localhost:8080/"
        },
        "id": "NzfmUHuEVHL-",
        "outputId": "321cd600-404c-468a-dbe9-8a854730034c"
      },
      "execution_count": 9,
      "outputs": [
        {
          "output_type": "stream",
          "name": "stdout",
          "text": [
            "Regando o vaso 0-tomate\n",
            "Regando o vaso 2-tomate\n",
            "Regando o vaso 4-tomate\n"
          ]
        }
      ]
    },
    {
      "cell_type": "code",
      "source": [],
      "metadata": {
        "id": "FX7N9tTKU5Vx"
      },
      "execution_count": null,
      "outputs": []
    },
    {
      "cell_type": "code",
      "source": [],
      "metadata": {
        "id": "uBsgYctuT17O"
      },
      "execution_count": null,
      "outputs": []
    }
  ]
}