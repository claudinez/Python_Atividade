{
  "nbformat": 4,
  "nbformat_minor": 0,
  "metadata": {
    "colab": {
      "provenance": [],
      "authorship_tag": "ABX9TyM0SFQzV+9nK0eYtD2D5Zm+",
      "include_colab_link": true
    },
    "kernelspec": {
      "name": "python3",
      "display_name": "Python 3"
    },
    "language_info": {
      "name": "python"
    }
  },
  "cells": [
    {
      "cell_type": "markdown",
      "metadata": {
        "id": "view-in-github",
        "colab_type": "text"
      },
      "source": [
        "<a href=\"https://colab.research.google.com/github/claudinez/Python_Atividade/blob/main/Resolucao_Problema_For_While.ipynb\" target=\"_parent\"><img src=\"https://colab.research.google.com/assets/colab-badge.svg\" alt=\"Open In Colab\"/></a>"
      ]
    },
    {
      "cell_type": "code",
      "execution_count": 11,
      "metadata": {
        "colab": {
          "base_uri": "https://localhost:8080/"
        },
        "id": "5AJVGRXJuKD9",
        "outputId": "d3d4daea-0e24-43e5-ef0c-ff7fefa5c356"
      },
      "outputs": [
        {
          "output_type": "stream",
          "name": "stdout",
          "text": [
            "1\n",
            "2\n",
            "3\n",
            "4\n",
            "5\n",
            "6\n",
            "7\n",
            "8\n",
            "9\n",
            "10\n",
            "11\n",
            "12\n",
            "14\n",
            "15\n",
            "16\n",
            "17\n",
            "18\n",
            "19\n",
            "20\n",
            "-------------------Fim do For---------------------------------\n",
            "1\n",
            "2\n",
            "3\n",
            "4\n",
            "5\n",
            "6\n",
            "7\n",
            "8\n",
            "9\n",
            "10\n",
            "11\n",
            "12\n",
            "14\n",
            "15\n",
            "16\n",
            "17\n",
            "18\n",
            "19\n",
            "20\n",
            "-------------------Fim do While-------------------------------\n",
            "20\n",
            "19\n",
            "18\n",
            "17\n",
            "16\n",
            "15\n",
            "14\n",
            "12\n",
            "11\n",
            "10\n",
            "9\n",
            "8\n",
            "7\n",
            "6\n",
            "5\n",
            "4\n",
            "3\n",
            "2\n",
            "1\n",
            "-------------------Fim do For---------------------------------\n"
          ]
        }
      ],
      "source": [
        "for i in range(1, 21):\n",
        "  if(i == 13):\n",
        "    continue\n",
        "  else:\n",
        "    print(i)\n",
        "print(\"-------------------Fim do For---------------------------------\")\n",
        "\n",
        "# Imprimir todos os numeros exceto 13 (laços while)\n",
        "contador = 1\n",
        "while (contador <= 20):\n",
        "  if(contador ==13):\n",
        "    contador = contador + 1\n",
        "    continue\n",
        "  else:\n",
        "    print(contador)\n",
        "    contador = contador + 1\n",
        "print(\"-------------------Fim do While-------------------------------\")\n",
        "\n",
        "# Imprime todos os numeros execetos 13 em ordem descendente\n",
        "for i in range(20, 0, -1):\n",
        "   if (i == 13):\n",
        "     continue\n",
        "   else:\n",
        "     print(i)\n",
        "print(\"-------------------Fim do For---------------------------------\")"
      ]
    }
  ]
}