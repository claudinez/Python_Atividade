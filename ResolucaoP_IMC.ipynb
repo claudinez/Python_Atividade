{
  "nbformat": 4,
  "nbformat_minor": 0,
  "metadata": {
    "colab": {
      "provenance": [],
      "authorship_tag": "ABX9TyM4/i7U2LnpZoQ9etgjCNIy",
      "include_colab_link": true
    },
    "kernelspec": {
      "name": "python3",
      "display_name": "Python 3"
    },
    "language_info": {
      "name": "python"
    }
  },
  "cells": [
    {
      "cell_type": "markdown",
      "metadata": {
        "id": "view-in-github",
        "colab_type": "text"
      },
      "source": [
        "<a href=\"https://colab.research.google.com/github/claudinez/Python_Atividade/blob/main/ResolucaoP_IMC.ipynb\" target=\"_parent\"><img src=\"https://colab.research.google.com/assets/colab-badge.svg\" alt=\"Open In Colab\"/></a>"
      ]
    },
    {
      "cell_type": "code",
      "execution_count": null,
      "metadata": {
        "colab": {
          "base_uri": "https://localhost:8080/"
        },
        "id": "kCnNL0YLKVvt",
        "outputId": "341971f1-25a4-432e-fef6-2d80818d100e"
      },
      "outputs": [
        {
          "output_type": "stream",
          "name": "stdout",
          "text": [
            "programa IMC\n",
            "Digie o seu peso\n",
            "100\n",
            "Digite a sua altura\n",
            "175\n",
            "dados incorretos\n",
            "Digie o seu peso\n",
            "dados incorretos\n",
            "Digie o seu peso\n",
            "dados incorretos\n",
            "Digie o seu peso\n",
            "dados incorretos\n",
            "Digie o seu peso\n",
            "dados incorretos\n",
            "Digie o seu peso\n",
            "dados incorretos\n",
            "Digie o seu peso\n",
            "dados incorretos\n",
            "Digie o seu peso\n",
            "dados incorretos\n",
            "Digie o seu peso\n"
          ]
        }
      ],
      "source": [
        "print(\"programa IMC\")\n",
        "rodar = True\n",
        "while(rodar):\n",
        "\n",
        "  try:\n",
        "     print(\"Digie o seu peso\")\n",
        "     peso = float(input())\n",
        "     print(\"Digite a sua altura\")\n",
        "     alt = float(input())\n",
        "     imc = imc_function(peso, alt)\n",
        "     print(imc)\n",
        "     rodar = False\n",
        "  except:\n",
        "      print(\"dados incorretos\")\n",
        "\n",
        "print(\"finalizado \")\n"
      ]
    }
  ]
}