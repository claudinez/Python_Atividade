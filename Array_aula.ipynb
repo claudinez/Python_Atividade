{
  "nbformat": 4,
  "nbformat_minor": 0,
  "metadata": {
    "colab": {
      "provenance": [],
      "authorship_tag": "ABX9TyOHbu5G1WBvlz2moFYbpqqr",
      "include_colab_link": true
    },
    "kernelspec": {
      "name": "python3",
      "display_name": "Python 3"
    },
    "language_info": {
      "name": "python"
    }
  },
  "cells": [
    {
      "cell_type": "markdown",
      "metadata": {
        "id": "view-in-github",
        "colab_type": "text"
      },
      "source": [
        "<a href=\"https://colab.research.google.com/github/claudinez/Python_Atividade/blob/main/Array_aula.ipynb\" target=\"_parent\"><img src=\"https://colab.research.google.com/assets/colab-badge.svg\" alt=\"Open In Colab\"/></a>"
      ]
    },
    {
      "cell_type": "code",
      "execution_count": 1,
      "metadata": {
        "colab": {
          "base_uri": "https://localhost:8080/"
        },
        "id": "VlZXZ_1qOPbP",
        "outputId": "6d03299e-bebd-421b-8caa-bfc0e9f1e472"
      },
      "outputs": [
        {
          "output_type": "stream",
          "name": "stdout",
          "text": [
            "pera\n",
            "['maçã', 'banana', 'pera']\n"
          ]
        }
      ],
      "source": [
        "lista_frutas = ['maçã', 'banana', 'pera']\n",
        "fruta_preferida = lista_frutas[2]\n",
        "\n",
        "print(fruta_preferida)\n",
        "print(lista_frutas)\n",
        "\n",
        "# O primeiro print() imprimirá: 'pera'\n",
        "# O segundo print() imprimirá: ['maçã', 'banana', 'pera']"
      ]
    }
  ]
}