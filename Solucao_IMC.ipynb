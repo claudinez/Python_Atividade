{
  "nbformat": 4,
  "nbformat_minor": 0,
  "metadata": {
    "colab": {
      "provenance": [],
      "authorship_tag": "ABX9TyNArhry4sZwcoJbUt7GkhiZ",
      "include_colab_link": true
    },
    "kernelspec": {
      "name": "python3",
      "display_name": "Python 3"
    },
    "language_info": {
      "name": "python"
    }
  },
  "cells": [
    {
      "cell_type": "markdown",
      "metadata": {
        "id": "view-in-github",
        "colab_type": "text"
      },
      "source": [
        "<a href=\"https://colab.research.google.com/github/claudinez/Python_Atividade/blob/main/Solucao_IMC.ipynb\" target=\"_parent\"><img src=\"https://colab.research.google.com/assets/colab-badge.svg\" alt=\"Open In Colab\"/></a>"
      ]
    },
    {
      "cell_type": "code",
      "execution_count": 5,
      "metadata": {
        "colab": {
          "base_uri": "https://localhost:8080/"
        },
        "id": "-zZwAkyKBZWj",
        "outputId": "2c27639d-be46-4447-c1fd-c610aa37d122"
      },
      "outputs": [
        {
          "output_type": "stream",
          "name": "stdout",
          "text": [
            "Saudavel\n"
          ]
        }
      ],
      "source": [
        "# Solução Problema IMC:\n",
        "\n",
        "def calculadoraImc(peso, altura):\n",
        "     imc = peso/(altura*altura) * 10000\n",
        "\n",
        "     if (imc <= 18.5): return \"Magreza\"\n",
        "     elif (imc > 18.5) and (imc <= 24.9): return \"Saudavel\"\n",
        "     elif (imc >= 25) and (imc <= 29.9): return \"Sobrepeso\"\n",
        "     elif (imc > 30) and (imc <= 34.9): return \"Obesidade grau 1\"\n",
        "     elif (imc > 35) and (imc <= 39.9): return \"Obesidade severa grau 2\"\n",
        "     else : return \"Obesidade morbida grau 3\"\n",
        "peso = 60\n",
        "altura = 174\n",
        "resultado = calculadoraImc(peso,altura)\n",
        "print(resultado)"
      ]
    },
    {
      "cell_type": "code",
      "source": [],
      "metadata": {
        "id": "zd-qCneaBa_A"
      },
      "execution_count": null,
      "outputs": []
    }
  ]
}