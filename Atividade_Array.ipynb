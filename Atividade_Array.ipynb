{
  "nbformat": 4,
  "nbformat_minor": 0,
  "metadata": {
    "colab": {
      "provenance": [],
      "authorship_tag": "ABX9TyMdHJ3FiWKb+PydwIdN5N5U",
      "include_colab_link": true
    },
    "kernelspec": {
      "name": "python3",
      "display_name": "Python 3"
    },
    "language_info": {
      "name": "python"
    }
  },
  "cells": [
    {
      "cell_type": "markdown",
      "metadata": {
        "id": "view-in-github",
        "colab_type": "text"
      },
      "source": [
        "<a href=\"https://colab.research.google.com/github/claudinez/Python_Atividade/blob/main/Atividade_Array.ipynb\" target=\"_parent\"><img src=\"https://colab.research.google.com/assets/colab-badge.svg\" alt=\"Open In Colab\"/></a>"
      ]
    },
    {
      "cell_type": "code",
      "execution_count": null,
      "metadata": {
        "colab": {
          "base_uri": "https://localhost:8080/"
        },
        "id": "BOk34ce2gce5",
        "outputId": "8ee54313-bf48-48c1-eb00-c8c101f76aff"
      },
      "outputs": [
        {
          "output_type": "stream",
          "name": "stdout",
          "text": [
            "O elemento 3 existe na lista.\n"
          ]
        }
      ],
      "source": [
        "# Função para verificar se um elemento existe em uma lista\n",
        "def verificar_elemento(lista, elemento):\n",
        "    if elemento in lista:\n",
        "        return f\"O elemento {elemento} existe na lista.\"\n",
        "    else:\n",
        "        return f\"O elemento {elemento} não existe na lista.\"\n",
        "\n",
        "# Array de teste\n",
        "meu_array = [1, 2, 3, 4, 5]\n",
        "\n",
        "# Elemento a ser verificado\n",
        "elemento_procurado = 3\n",
        "\n",
        "# Chamar a função para verificar o elemento\n",
        "resultado = verificar_elemento(meu_array, elemento_procurado)\n",
        "\n",
        "# Exibir o resultado\n",
        "print(resultado)\n"
      ]
    },
    {
      "cell_type": "code",
      "source": [
        "# Função para verificar se um elemento existe em uma lista\n",
        "def verificar_elemento(lista, elemento):\n",
        "    if elemento in lista:\n",
        "        return f\"O elemento {elemento} existe na lista.\"\n",
        "    else:\n",
        "        return f\"O elemento {elemento} não existe na lista.\"\n",
        "\n",
        "# Array de teste\n",
        "meu_array = [1, 2, 3, 4, 5]\n",
        "\n",
        "# Loop para interação contínua com o usuário\n",
        "while True:\n",
        "    # Solicitar ao usuário o elemento a ser procurado\n",
        "    elemento_procurado = input(\"Digite o elemento que você deseja procurar (ou 'sair' para encerrar): \")\n",
        "\n",
        "    # Verificar se o usuário deseja sair\n",
        "    if elemento_procurado.lower() == 'sair':\n",
        "        break  # Sai do loop se o usuário digitar 'sair'\n",
        "\n",
        "    # Chamar a função para verificar o elemento\n",
        "    resultado = verificar_elemento(meu_array, int(elemento_procurado))\n",
        "\n",
        "    # Exibir o resultado\n",
        "    print(resultado)\n"
      ],
      "metadata": {
        "colab": {
          "base_uri": "https://localhost:8080/"
        },
        "id": "OaTgD9mKt08o",
        "outputId": "2e470710-ba13-4d19-b22b-a5ac2aa74e6d"
      },
      "execution_count": null,
      "outputs": [
        {
          "name": "stdout",
          "output_type": "stream",
          "text": [
            "Digite o elemento que você deseja procurar (ou 'sair' para encerrar): 2\n",
            "O elemento 2 existe na lista.\n",
            "Digite o elemento que você deseja procurar (ou 'sair' para encerrar): sair\n"
          ]
        }
      ]
    }
  ]
}