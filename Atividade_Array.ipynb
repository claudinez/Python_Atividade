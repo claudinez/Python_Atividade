{
  "nbformat": 4,
  "nbformat_minor": 0,
  "metadata": {
    "colab": {
      "provenance": [],
      "authorship_tag": "ABX9TyNOLNL19bSY1kij5GES2O1j",
      "include_colab_link": true
    },
    "kernelspec": {
      "name": "python3",
      "display_name": "Python 3"
    },
    "language_info": {
      "name": "python"
    }
  },
  "cells": [
    {
      "cell_type": "markdown",
      "metadata": {
        "id": "view-in-github",
        "colab_type": "text"
      },
      "source": [
        "<a href=\"https://colab.research.google.com/github/claudinez/Python_Atividade/blob/main/Atividade_Array.ipynb\" target=\"_parent\"><img src=\"https://colab.research.google.com/assets/colab-badge.svg\" alt=\"Open In Colab\"/></a>"
      ]
    },
    {
      "cell_type": "code",
      "execution_count": 7,
      "metadata": {
        "colab": {
          "base_uri": "https://localhost:8080/"
        },
        "id": "4gqi9yOS_14W",
        "outputId": "35ac0869-1025-4199-cb99-8f473cdda9e4"
      },
      "outputs": [
        {
          "output_type": "stream",
          "name": "stdout",
          "text": [
            "Primeiro\n",
            "Segundo\n",
            "Terceiro\n"
          ]
        }
      ],
      "source": [
        "def achar_elemento(arr):\n",
        "  achou = False\n",
        "  cumprimento = len(arr)\n",
        "  for i in range(cumprimento):\n",
        "    print(arr[i])\n",
        "\n",
        "ordem = [\"Primeiro\", \"Segundo\", \"Terceiro\"]\n",
        "achar_elemento(ordem)"
      ]
    },
    {
      "cell_type": "code",
      "source": [
        "def achar_elemento(elem, arr):\n",
        "\n",
        "  achou = False\n",
        "  cumprimento = len(arr)\n",
        "\n",
        "  for i in range(cumprimento):\n",
        "    if (arr[i] == elem):\n",
        "      achou = True\n",
        "\n",
        "    if(achou == True):\n",
        "      print(\"Achei o nome \" + elem)\n",
        "    else:\n",
        "      print(\"Não achou o nome \" + elem)\n",
        "\n",
        "\n",
        "nomes = [\"Rafael\", \"Arturo\", \"Karem\", \"Julia\"]\n",
        "achar_elemento(\"Rafael\", nomes)\n"
      ],
      "metadata": {
        "colab": {
          "base_uri": "https://localhost:8080/"
        },
        "id": "OetuWCPBJc5q",
        "outputId": "064ae426-e042-4487-ac87-be761cc7eebb"
      },
      "execution_count": 13,
      "outputs": [
        {
          "output_type": "stream",
          "name": "stdout",
          "text": [
            "Achei o nome Rafael\n",
            "Achei o nome Rafael\n",
            "Achei o nome Rafael\n",
            "Achei o nome Rafael\n"
          ]
        }
      ]
    }
  ]
}