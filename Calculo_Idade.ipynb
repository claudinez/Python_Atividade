{
  "nbformat": 4,
  "nbformat_minor": 0,
  "metadata": {
    "colab": {
      "provenance": [],
      "authorship_tag": "ABX9TyM18/pKjtSp137sDOFDS/Gm",
      "include_colab_link": true
    },
    "kernelspec": {
      "name": "python3",
      "display_name": "Python 3"
    },
    "language_info": {
      "name": "python"
    }
  },
  "cells": [
    {
      "cell_type": "markdown",
      "metadata": {
        "id": "view-in-github",
        "colab_type": "text"
      },
      "source": [
        "<a href=\"https://colab.research.google.com/github/claudinez/Python_Atividade/blob/main/Calculo_Idade.ipynb\" target=\"_parent\"><img src=\"https://colab.research.google.com/assets/colab-badge.svg\" alt=\"Open In Colab\"/></a>"
      ]
    },
    {
      "cell_type": "code",
      "execution_count": 1,
      "metadata": {
        "colab": {
          "base_uri": "https://localhost:8080/"
        },
        "id": "4azqXtdcNB3a",
        "outputId": "6a514adc-c4ca-49e7-c107-6ccfba3adffb"
      },
      "outputs": [
        {
          "output_type": "stream",
          "name": "stdout",
          "text": [
            "Digite o seu nome completo: Cal\n",
            "Digite o ano de nascimento (1922-2021): 2010\n",
            "Nome: Cal\n",
            "Idade em 2022: 13 anos\n"
          ]
        }
      ],
      "source": [
        "import datetime\n",
        "\n",
        "def obter_ano_nascimento():\n",
        "    while True:\n",
        "        try:\n",
        "            ano = int(input(\"Digite o ano de nascimento (1922-2021): \"))\n",
        "            if 1922 <= ano <= 2021:\n",
        "                return ano\n",
        "            else:\n",
        "                print(\"Ano fora do intervalo permitido.\")\n",
        "        except ValueError:\n",
        "            print(\"Valor inválido. Digite um número inteiro válido.\")\n",
        "\n",
        "def calcular_idade(ano_nascimento):\n",
        "    ano_atual = datetime.datetime.now().year\n",
        "    idade = ano_atual - ano_nascimento\n",
        "    return idade\n",
        "\n",
        "nome_completo = input(\"Digite o seu nome completo: \")\n",
        "ano_nascimento = obter_ano_nascimento()\n",
        "idade = calcular_idade(ano_nascimento)\n",
        "\n",
        "print(f\"Nome: {nome_completo}\")\n",
        "print(f\"Idade em 2022: {idade} anos\")\n"
      ]
    }
  ]
}