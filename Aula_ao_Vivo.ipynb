{
  "nbformat": 4,
  "nbformat_minor": 0,
  "metadata": {
    "colab": {
      "provenance": [],
      "authorship_tag": "ABX9TyPhZ4g/w+Ch4auMDotVouwh",
      "include_colab_link": true
    },
    "kernelspec": {
      "name": "python3",
      "display_name": "Python 3"
    },
    "language_info": {
      "name": "python"
    }
  },
  "cells": [
    {
      "cell_type": "markdown",
      "metadata": {
        "id": "view-in-github",
        "colab_type": "text"
      },
      "source": [
        "<a href=\"https://colab.research.google.com/github/claudinez/Python_Atividade/blob/main/Aula_ao_Vivo.ipynb\" target=\"_parent\"><img src=\"https://colab.research.google.com/assets/colab-badge.svg\" alt=\"Open In Colab\"/></a>"
      ]
    },
    {
      "cell_type": "code",
      "execution_count": null,
      "metadata": {
        "id": "gG7NLYNJBdAU"
      },
      "outputs": [],
      "source": [
        "def num_esc():\n",
        "\n",
        "    exist = True\n",
        "\n",
        "    while(exist == True):\n",
        "\n",
        "      try:\n",
        "\n",
        "          num1 = float(input(\"\\nescreva um numero real entre 10 e 100: \\n\"))\n",
        "\n",
        "          if num1 >= 10 and num1 <= 100:\n",
        "\n",
        "            print(\"Voce escolheu o numero\", num1 )\n",
        "            exist = False\n",
        "\n",
        "          else:\n",
        "\n",
        "            print(\"\\nseu numero esta fora dos parametros\\n\")\n",
        "\n",
        "      except:\n",
        "\n",
        "          print(\"\\nDigitar um numero real entre 10 e 100\\n\")\n",
        "num_esc()"
      ]
    }
  ]
}