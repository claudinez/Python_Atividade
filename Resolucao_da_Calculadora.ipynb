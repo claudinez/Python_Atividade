{
  "nbformat": 4,
  "nbformat_minor": 0,
  "metadata": {
    "colab": {
      "provenance": [],
      "authorship_tag": "ABX9TyM4aUbzhatF/tkICW6P/n63",
      "include_colab_link": true
    },
    "kernelspec": {
      "name": "python3",
      "display_name": "Python 3"
    },
    "language_info": {
      "name": "python"
    }
  },
  "cells": [
    {
      "cell_type": "markdown",
      "metadata": {
        "id": "view-in-github",
        "colab_type": "text"
      },
      "source": [
        "<a href=\"https://colab.research.google.com/github/claudinez/Python_Atividade/blob/main/Resolucao_da_Calculadora.ipynb\" target=\"_parent\"><img src=\"https://colab.research.google.com/assets/colab-badge.svg\" alt=\"Open In Colab\"/></a>"
      ]
    },
    {
      "cell_type": "code",
      "execution_count": 3,
      "metadata": {
        "colab": {
          "base_uri": "https://localhost:8080/"
        },
        "id": "OEg7sWoRMoEL",
        "outputId": "c083d38f-8c3f-4c3a-935f-7e00208f4d1c"
      },
      "outputs": [
        {
          "output_type": "stream",
          "name": "stdout",
          "text": [
            "0.5714285714285714\n"
          ]
        }
      ],
      "source": [
        "#Solução\n",
        "def calculadora(num1, num2, operacao):\n",
        "  if (operacao == 1):\n",
        "    return num1 + num2\n",
        "  elif (operacao == 2):\n",
        "    return num1 - num2\n",
        "  elif (operacao == 3):\n",
        "    return num1 * num2\n",
        "  elif (operacao == 4):\n",
        "    return num1 / num2\n",
        "  else:\n",
        "    return 0\n",
        "\n",
        "resultado = calculadora(4, 7, 4)\n",
        "print(resultado)\n"
      ]
    }
  ]
}