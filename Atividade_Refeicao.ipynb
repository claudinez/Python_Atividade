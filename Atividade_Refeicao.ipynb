{
  "nbformat": 4,
  "nbformat_minor": 0,
  "metadata": {
    "colab": {
      "provenance": [],
      "authorship_tag": "ABX9TyNfvYV1k56NIaKy8g1AhXGw",
      "include_colab_link": true
    },
    "kernelspec": {
      "name": "python3",
      "display_name": "Python 3"
    },
    "language_info": {
      "name": "python"
    }
  },
  "cells": [
    {
      "cell_type": "markdown",
      "metadata": {
        "id": "view-in-github",
        "colab_type": "text"
      },
      "source": [
        "<a href=\"https://colab.research.google.com/github/claudinez/Python_Atividade/blob/main/Atividade_Refeicao.ipynb\" target=\"_parent\"><img src=\"https://colab.research.google.com/assets/colab-badge.svg\" alt=\"Open In Colab\"/></a>"
      ]
    },
    {
      "cell_type": "code",
      "execution_count": 9,
      "metadata": {
        "colab": {
          "base_uri": "https://localhost:8080/"
        },
        "id": "5yidnnLu2GBA",
        "outputId": "0dc4d107-8602-48ac-9007-3ead81d5de75"
      },
      "outputs": [
        {
          "output_type": "stream",
          "name": "stdout",
          "text": [
            "Digite o seu nome: cal\n",
            "Digite a sua idade: 50\n",
            "Digite o nome do prato escolhido: macarrao\n",
            "Digite o nome da bebida escolhida: refri\n",
            "Digite o tipo de bebida (Bebida Alcoolica sim ou não): nao\n",
            "Digite o valor do prato: 20\n",
            "Digite o valor da bebida: 10\n",
            "\n",
            "Detalhes da Refeição:\n",
            "Cliente: cal\n",
            "Idade: 50\n",
            "Prato escolhido: macarrao\n",
            "Bebida escolhida: refri\n",
            "Tipo de bebida: nao\n",
            "Valor do prato: R$20.00\n",
            "Valor da bebida: R$10.00\n",
            "Custo total da refeição: R$30.00\n"
          ]
        }
      ],
      "source": [
        "# Solicitando entrada de dados do usuário\n",
        "nome = input(\"Digite o seu nome: \")\n",
        "idade = int(input(\"Digite a sua idade: \"))\n",
        "comida = input(\"Digite o nome do prato escolhido: \")\n",
        "bebida = input(\"Digite o nome da bebida escolhida: \")\n",
        "tipo_de_bebida = input(\"Digite o tipo de bebida (Bebida Alcoolica sim ou não): \")\n",
        "valor_comida = int(input(\"Digite o valor do prato: \"))\n",
        "valor_bebida = int(input(\"Digite o valor da bebida: \"))\n",
        "\n",
        "# Verificando o tipo de bebida\n",
        "if tipo_de_bebida.lower() == \"sim\":\n",
        "    custo_total = valor_comida + valor_bebida\n",
        "else:\n",
        "    custo_total = valor_comida + valor_bebida\n",
        "\n",
        "# Exibindo os detalhes da refeição\n",
        "print(\"\\nDetalhes da Refeição:\")\n",
        "print(f\"Cliente: {nome}\")\n",
        "print(f\"Idade: {idade}\")\n",
        "print(f\"Prato escolhido: {comida}\")\n",
        "print(f\"Bebida escolhida: {bebida}\")\n",
        "print(f\"Tipo de bebida: {tipo_de_bebida}\")\n",
        "print(f\"Valor do prato: R${valor_comida:.2f}\")\n",
        "print(f\"Valor da bebida: R${valor_bebida:.2f}\")\n",
        "print(f\"Custo total da refeição: R${custo_total:.2f}\")\n",
        "\n"
      ]
    }
  ]
}