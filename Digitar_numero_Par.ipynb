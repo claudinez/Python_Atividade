{
  "nbformat": 4,
  "nbformat_minor": 0,
  "metadata": {
    "colab": {
      "provenance": [],
      "authorship_tag": "ABX9TyM5Nkkwmfoi/H9Ss+pgpgux",
      "include_colab_link": true
    },
    "kernelspec": {
      "name": "python3",
      "display_name": "Python 3"
    },
    "language_info": {
      "name": "python"
    }
  },
  "cells": [
    {
      "cell_type": "markdown",
      "metadata": {
        "id": "view-in-github",
        "colab_type": "text"
      },
      "source": [
        "<a href=\"https://colab.research.google.com/github/claudinez/Python_Atividade/blob/main/Digitar_numero_Par.ipynb\" target=\"_parent\"><img src=\"https://colab.research.google.com/assets/colab-badge.svg\" alt=\"Open In Colab\"/></a>"
      ]
    },
    {
      "cell_type": "code",
      "execution_count": 2,
      "metadata": {
        "colab": {
          "base_uri": "https://localhost:8080/"
        },
        "id": "iPcebV9kFG31",
        "outputId": "47b3ce5f-0af6-4805-b985-9c7ad3a2ffa6"
      },
      "outputs": [
        {
          "output_type": "stream",
          "name": "stdout",
          "text": [
            "Insira um número par\n",
            "ll\n",
            "Caracter inválido, por favor digite um número par\n",
            "Insira um número par\n",
            "2\n",
            "Você digitou um numero par !\n"
          ]
        }
      ],
      "source": [
        "#Solução:\n",
        "numeroCorreto = False\n",
        "while (numeroCorreto == False):\n",
        "   print(\"Insira um número par\")\n",
        "   try:\n",
        "       numero = int(input())\n",
        "       if (numero%2 == 0):\n",
        "           numeroCorreto = True\n",
        "           print(\"Você digitou um numero par !\")\n",
        "       else :\n",
        "           print(\"Você digitou um número impar\")\n",
        "   except:\n",
        "       print(\"Caracter inválido, por favor digite um número par\")"
      ]
    }
  ]
}