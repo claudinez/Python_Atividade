{
  "nbformat": 4,
  "nbformat_minor": 0,
  "metadata": {
    "colab": {
      "provenance": [],
      "authorship_tag": "ABX9TyMnh1pyp6FVbAV/Dy5amRYQ",
      "include_colab_link": true
    },
    "kernelspec": {
      "name": "python3",
      "display_name": "Python 3"
    },
    "language_info": {
      "name": "python"
    }
  },
  "cells": [
    {
      "cell_type": "markdown",
      "metadata": {
        "id": "view-in-github",
        "colab_type": "text"
      },
      "source": [
        "<a href=\"https://colab.research.google.com/github/claudinez/Python_Atividade/blob/main/AulaRepeticao.ipynb\" target=\"_parent\"><img src=\"https://colab.research.google.com/assets/colab-badge.svg\" alt=\"Open In Colab\"/></a>"
      ]
    },
    {
      "cell_type": "code",
      "execution_count": 7,
      "metadata": {
        "colab": {
          "base_uri": "https://localhost:8080/"
        },
        "id": "2Z3WZuG4d4o8",
        "outputId": "b09fde6f-a936-4721-f29b-7f96c9f5d9a8"
      },
      "outputs": [
        {
          "output_type": "stream",
          "name": "stdout",
          "text": [
            "reguei 0\n",
            "reguei 1\n",
            "reguei 2\n",
            "reguei 3\n",
            "reguei 4\n",
            "reguei 5\n"
          ]
        }
      ],
      "source": [
        "#contador = 0\n",
        "for i in range(0,6,1):\n",
        "   print(\"reguei\", i);"
      ]
    },
    {
      "cell_type": "code",
      "source": [
        "contador = 0\n",
        "while contador <= 5:\n",
        "    print(\"contador reguei \", contador)\n",
        "    contador += 1"
      ],
      "metadata": {
        "colab": {
          "base_uri": "https://localhost:8080/"
        },
        "id": "Zk2LZDPbjpPD",
        "outputId": "d3923e9f-a732-414f-eb6b-17449ddcbeb8"
      },
      "execution_count": 21,
      "outputs": [
        {
          "output_type": "stream",
          "name": "stdout",
          "text": [
            "contador reguei  0\n",
            "contador reguei  1\n",
            "contador reguei  2\n",
            "contador reguei  3\n",
            "contador reguei  4\n",
            "contador reguei  5\n"
          ]
        }
      ]
    }
  ]
}