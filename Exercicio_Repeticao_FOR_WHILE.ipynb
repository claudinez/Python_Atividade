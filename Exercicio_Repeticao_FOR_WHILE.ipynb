{
  "nbformat": 4,
  "nbformat_minor": 0,
  "metadata": {
    "colab": {
      "provenance": [],
      "authorship_tag": "ABX9TyP58c7yY6cWPOgZsNX5ZIOk",
      "include_colab_link": true
    },
    "kernelspec": {
      "name": "python3",
      "display_name": "Python 3"
    },
    "language_info": {
      "name": "python"
    }
  },
  "cells": [
    {
      "cell_type": "markdown",
      "metadata": {
        "id": "view-in-github",
        "colab_type": "text"
      },
      "source": [
        "<a href=\"https://colab.research.google.com/github/claudinez/Python_Atividade/blob/main/Exercicio_Repeticao_FOR_WHILE.ipynb\" target=\"_parent\"><img src=\"https://colab.research.google.com/assets/colab-badge.svg\" alt=\"Open In Colab\"/></a>"
      ]
    },
    {
      "cell_type": "code",
      "execution_count": null,
      "metadata": {
        "colab": {
          "base_uri": "https://localhost:8080/"
        },
        "id": "TsPM7hRvys3-",
        "outputId": "f9f9dbb8-60a5-4b26-c322-dcb8ca0da2c0"
      },
      "outputs": [
        {
          "output_type": "stream",
          "name": "stdout",
          "text": [
            "Regando planta número 5\n",
            "Regando planta número 4\n",
            "Regando planta número 3\n",
            "Regando planta número 2\n",
            "Regando planta número 1\n",
            "Regando planta número 0\n"
          ]
        }
      ],
      "source": [
        "# Loop de 5 a 0 (de trás para frente)\n",
        "for planta in range(5, -1, -1):\n",
        "    print(f'Regando planta número {planta}')\n",
        "\n"
      ]
    },
    {
      "cell_type": "code",
      "source": [
        "planta = 5  # Começamos com a planta número 5\n",
        "\n",
        "while planta >= 0:  # Enquanto o número da planta for maior ou igual a 0\n",
        "    print(f'Regando planta número {planta}')\n",
        "    # Aqui você pode adicionar a lógica real para regar a planta.\n",
        "    planta -= 1  # Decrementamos o número.\n",
        "\n",
        "print('Todas as plantas foram regadas!')\n"
      ],
      "metadata": {
        "colab": {
          "base_uri": "https://localhost:8080/"
        },
        "id": "zzxxRsyLzBKn",
        "outputId": "b1bd1330-e1da-4b1d-c46f-02fb8c49189b"
      },
      "execution_count": null,
      "outputs": [
        {
          "output_type": "stream",
          "name": "stdout",
          "text": [
            "Regando planta número 5\n",
            "Regando planta número 4\n",
            "Regando planta número 3\n",
            "Regando planta número 2\n",
            "Regando planta número 1\n",
            "Regando planta número 0\n",
            "Todas as plantas foram regadas!\n"
          ]
        }
      ]
    },
    {
      "cell_type": "code",
      "source": [
        "plantas = [\"batata\", \"tomate\", \"batata\", \"batata\", \"tomate\", \"tomate\", \"tomate\", \"batata\"]\n",
        "dia_da_semana = \"terça-feira\"\n",
        "\n",
        "indice = 0  # Índice para acompanhar a planta atual\n",
        "\n",
        "while indice < len(plantas):\n",
        "    planta_atual = plantas[indice]\n",
        "\n",
        "    if dia_da_semana == \"terça-feira\" and planta_atual == \"tomate\":\n",
        "        print(f\"Regando o {planta_atual}\")\n",
        "\n",
        "    indice += 1\n",
        "\n",
        "print(\"Todos os tomates foram regados na terça-feira!\")\n"
      ],
      "metadata": {
        "colab": {
          "base_uri": "https://localhost:8080/"
        },
        "id": "JpmUx2jg6g_9",
        "outputId": "1ef72cd5-6c98-4137-c08c-8210bf89068d"
      },
      "execution_count": 13,
      "outputs": [
        {
          "output_type": "stream",
          "name": "stdout",
          "text": [
            "Regando o tomate\n",
            "Regando o tomate\n",
            "Regando o tomate\n",
            "Regando o tomate\n",
            "Todos os tomates foram regados na terça-feira!\n"
          ]
        }
      ]
    },
    {
      "cell_type": "code",
      "source": [
        "plantas = [\"batata\", \"tomate\", \"batata\", \"batata\", \"tomate\", \"tomate\", \"tomate\", \"batata\"]\n",
        "dia_da_semana = \"terça-feira\"\n",
        "\n",
        "for planta in plantas:\n",
        "    if dia_da_semana == \"terça-feira\" and planta == \"tomate\":\n",
        "        print(f\"Regando o {planta}\")\n",
        "\n",
        "print(\"Todos os tomates foram regados na terça-feira!\")\n"
      ],
      "metadata": {
        "colab": {
          "base_uri": "https://localhost:8080/"
        },
        "id": "3biw3-fG7OA5",
        "outputId": "bbd36b4e-a647-4c72-e1a2-be508c366ac3"
      },
      "execution_count": 14,
      "outputs": [
        {
          "output_type": "stream",
          "name": "stdout",
          "text": [
            "Regando o tomate\n",
            "Regando o tomate\n",
            "Regando o tomate\n",
            "Regando o tomate\n",
            "Todos os tomates foram regados na terça-feira!\n"
          ]
        }
      ]
    },
    {
      "cell_type": "code",
      "source": [
        "#Regar os Batatas\n",
        "plantas = [\"tomate\", \"tomate\", \"tomate\", \"batata\", \"batata\", \"batata\"]\n",
        "\n",
        "indice = 0  # Índice para acompanhar a planta atual\n",
        "\n",
        "while indice < len(plantas):\n",
        "    planta_atual = plantas[indice]\n",
        "\n",
        "    if planta_atual == \"batata\":\n",
        "        print(f\"Regando a {planta_atual}\")\n",
        "\n",
        "    indice += 1\n",
        "\n",
        "print(\"Todas as plantas foram regadas!\")\n"
      ],
      "metadata": {
        "colab": {
          "base_uri": "https://localhost:8080/"
        },
        "id": "o4uNu5bi972I",
        "outputId": "43c6258e-b1f7-436a-f584-17ec9ab63041"
      },
      "execution_count": 9,
      "outputs": [
        {
          "output_type": "stream",
          "name": "stdout",
          "text": [
            "Regando a batata\n",
            "Regando a batata\n",
            "Regando a batata\n",
            "Todas as plantas foram regadas!\n"
          ]
        }
      ]
    },
    {
      "cell_type": "code",
      "source": [
        "#Regar as batatas\n",
        "plantas = [\"tomate\", \"batata\", \"tomate\", \"batata\", \"tomate\", \"batata\"]\n",
        "\n",
        "for planta in plantas:\n",
        "    if planta == \"batata\":\n",
        "        print(f\"Regando a {planta}\")\n",
        "\n",
        "print(\"Todas as batatas foram regadas!\")\n"
      ],
      "metadata": {
        "colab": {
          "base_uri": "https://localhost:8080/"
        },
        "id": "G6aAFIK8-LdS",
        "outputId": "4b46ea50-488e-46a2-c895-f945aa4628e8"
      },
      "execution_count": 10,
      "outputs": [
        {
          "output_type": "stream",
          "name": "stdout",
          "text": [
            "Regando a batata\n",
            "Regando a batata\n",
            "Regando a batata\n",
            "Todas as batatas foram regadas!\n"
          ]
        }
      ]
    },
    {
      "cell_type": "code",
      "source": [
        "plantas = [\"tomate\", \"tomate\", \"tomate\", \"batata\", \"batata\", \"batata\"]\n",
        "indice = 0  # Índice para acompanhar a planta atual\n",
        "\n",
        "while indice < len(plantas):\n",
        "    planta_atual = plantas[indice]\n",
        "\n",
        "    if planta_atual == \"tomate\":\n",
        "        print(f\"Regando o {planta_atual}\")\n",
        "\n",
        "    indice += 1\n",
        "\n",
        "print(\"Todos os tomates foram regados!\")\n"
      ],
      "metadata": {
        "colab": {
          "base_uri": "https://localhost:8080/"
        },
        "id": "fzYZDZz9-8YS",
        "outputId": "e6f09d51-b1e0-4311-8aca-e325e3a84586"
      },
      "execution_count": 11,
      "outputs": [
        {
          "output_type": "stream",
          "name": "stdout",
          "text": [
            "Regando o tomate\n",
            "Regando o tomate\n",
            "Regando o tomate\n",
            "Todos os tomates foram regados!\n"
          ]
        }
      ]
    },
    {
      "cell_type": "code",
      "source": [
        "plantas = [\"tomate\", \"tomate\", \"tomate\", \"batata\", \"batata\", \"batata\"]\n",
        "\n",
        "for planta in plantas:\n",
        "    if planta == \"tomate\":\n",
        "        print(f\"Regando o {planta}\")\n",
        "\n",
        "print(\"Todos os tomates foram regados!\")\n"
      ],
      "metadata": {
        "colab": {
          "base_uri": "https://localhost:8080/"
        },
        "id": "LZpNERkf_F1E",
        "outputId": "6a36bbbf-057a-4c43-fab0-cf1258dbe267"
      },
      "execution_count": 12,
      "outputs": [
        {
          "output_type": "stream",
          "name": "stdout",
          "text": [
            "Regando o tomate\n",
            "Regando o tomate\n",
            "Regando o tomate\n",
            "Todos os tomates foram regados!\n"
          ]
        }
      ]
    }
  ]
}