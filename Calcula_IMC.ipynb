{
  "nbformat": 4,
  "nbformat_minor": 0,
  "metadata": {
    "colab": {
      "provenance": [],
      "authorship_tag": "ABX9TyN763Cc56cgdI6zGNYW6fac",
      "include_colab_link": true
    },
    "kernelspec": {
      "name": "python3",
      "display_name": "Python 3"
    },
    "language_info": {
      "name": "python"
    }
  },
  "cells": [
    {
      "cell_type": "markdown",
      "metadata": {
        "id": "view-in-github",
        "colab_type": "text"
      },
      "source": [
        "<a href=\"https://colab.research.google.com/github/claudinez/Python_Atividade/blob/main/Calcula_IMC.ipynb\" target=\"_parent\"><img src=\"https://colab.research.google.com/assets/colab-badge.svg\" alt=\"Open In Colab\"/></a>"
      ]
    },
    {
      "cell_type": "code",
      "execution_count": 7,
      "metadata": {
        "colab": {
          "base_uri": "https://localhost:8080/"
        },
        "id": "20lodvxHAOlK",
        "outputId": "6e65c315-58aa-4067-b020-9cf9339ce538"
      },
      "outputs": [
        {
          "output_type": "stream",
          "name": "stdout",
          "text": [
            "Digite a altura colocar o Ponto (em metros): 1.80\n",
            "Digite o peso (em kg): 112\n",
            "Seu IMC é: 34.57\n",
            "Classificação: Obesidade grau 1\n"
          ]
        }
      ],
      "source": [
        "def calcular_imc(peso, altura):\n",
        "    imc = peso / (altura ** 2)\n",
        "    return imc\n",
        "\n",
        "def classificar_imc(imc):\n",
        "    if imc < 18.5:\n",
        "        return \"Abaixo do peso\"\n",
        "    elif 18.5 <= imc < 24.9:\n",
        "        return \"Peso normal\"\n",
        "    elif 24.9 <= imc < 29.9:\n",
        "        return \"Sobrepeso\"\n",
        "    elif 29.9 <= imc < 34.9:\n",
        "        return \"Obesidade grau 1\"\n",
        "    elif 34.9 <= imc < 39.9:\n",
        "        return \"Obesidade grau 2\"\n",
        "    else:\n",
        "        return \"Obesidade grau 3\"\n",
        "\n",
        "altura = float(input(\"Digite a altura colocar o Ponto (em metros): \"))\n",
        "peso = float(input(\"Digite o peso (em kg): \"))\n",
        "\n",
        "imc = calcular_imc(peso, altura)\n",
        "classificacao = classificar_imc(imc)\n",
        "\n",
        "print(f\"Seu IMC é: {imc:.2f}\")\n",
        "print(f\"Classificação: {classificacao}\")\n"
      ]
    }
  ]
}