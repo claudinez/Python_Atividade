{
  "nbformat": 4,
  "nbformat_minor": 0,
  "metadata": {
    "colab": {
      "provenance": [],
      "authorship_tag": "ABX9TyNHxHPv9gW5m8gE6crgSSAT",
      "include_colab_link": true
    },
    "kernelspec": {
      "name": "python3",
      "display_name": "Python 3"
    },
    "language_info": {
      "name": "python"
    }
  },
  "cells": [
    {
      "cell_type": "markdown",
      "metadata": {
        "id": "view-in-github",
        "colab_type": "text"
      },
      "source": [
        "<a href=\"https://colab.research.google.com/github/claudinez/Python_Atividade/blob/main/Resultador_Calculadora.ipynb\" target=\"_parent\"><img src=\"https://colab.research.google.com/assets/colab-badge.svg\" alt=\"Open In Colab\"/></a>"
      ]
    },
    {
      "cell_type": "code",
      "execution_count": 4,
      "metadata": {
        "colab": {
          "base_uri": "https://localhost:8080/"
        },
        "id": "_reVmvfl_6oL",
        "outputId": "6c2be1f0-7646-4106-9611-a9f856c94530"
      },
      "outputs": [
        {
          "name": "stdout",
          "output_type": "stream",
          "text": [
            "Qual operação você quer realizar: \n",
            "1: Soma 2: Subtração 3: Mutiplicação 4: Divisão 0: Sair\n",
            "3\n",
            "Insira o primeiro numeero da operacao\n",
            "6\n",
            "insira o segundo numero da operacao\n",
            "3\n",
            "O resultado e:  18\n",
            "Qual operação você quer realizar: \n",
            "1: Soma 2: Subtração 3: Mutiplicação 4: Divisão 0: Sair\n",
            "0\n"
          ]
        }
      ],
      "source": [
        "def calculadora(num1, num2, operacao):\n",
        "  if (operacao == 1):\n",
        "    return num1 + num2\n",
        "  elif (operacao == 2):\n",
        "    return num1 + num2\n",
        "  elif (operacao == 3):\n",
        "    return num1 * num2\n",
        "  elif (operacao == 4):\n",
        "    return num1 / num2\n",
        "  else:\n",
        "    return 0\n",
        "\n",
        "executar = True\n",
        "\n",
        "while (executar == True):\n",
        "  print(\"Qual operação você quer realizar: \")\n",
        "  print(\"1: Soma 2: Subtração 3: Mutiplicação 4: Divisão 0: Sair\")\n",
        "  operacao = int(input())\n",
        "  if (operacao < 0) or (operacao > 4):\n",
        "     print(\"Essa opcao não existe\")\n",
        "  elif (operacao == 0):\n",
        "     executar = False\n",
        "  else:\n",
        "    print(\"Insira o primeiro numeero da operacao\")\n",
        "    num1 = int(input())\n",
        "    print(\"insira o segundo numero da operacao\")\n",
        "    num2 = int(input())\n",
        "    resultado = calculadora(num1, num2, operacao)\n",
        "    print(\"O resultado e: \", resultado)\n",
        ""
      ]
    }
  ]
}