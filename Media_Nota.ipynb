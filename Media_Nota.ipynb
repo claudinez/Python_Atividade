{
  "nbformat": 4,
  "nbformat_minor": 0,
  "metadata": {
    "colab": {
      "provenance": [],
      "authorship_tag": "ABX9TyPgAAP15W8XM5GN3HzkgSe2",
      "include_colab_link": true
    },
    "kernelspec": {
      "name": "python3",
      "display_name": "Python 3"
    },
    "language_info": {
      "name": "python"
    }
  },
  "cells": [
    {
      "cell_type": "markdown",
      "metadata": {
        "id": "view-in-github",
        "colab_type": "text"
      },
      "source": [
        "<a href=\"https://colab.research.google.com/github/claudinez/Python_Atividade/blob/main/Media_Nota.ipynb\" target=\"_parent\"><img src=\"https://colab.research.google.com/assets/colab-badge.svg\" alt=\"Open In Colab\"/></a>"
      ]
    },
    {
      "cell_type": "code",
      "execution_count": 21,
      "metadata": {
        "id": "jFb58rECFSO4",
        "colab": {
          "base_uri": "https://localhost:8080/"
        },
        "outputId": "10f15ecc-0c85-42ff-fb60-98115fd5fd33"
      },
      "outputs": [
        {
          "output_type": "stream",
          "name": "stdout",
          "text": [
            "Digite a primeira nota: 7\n",
            "Digite a segunda nota: 8\n",
            "Digite a terceira nota: 9\n",
            "Aprovado\n"
          ]
        }
      ],
      "source": [
        "def aprovacao(nota1, nota2, nota3):\n",
        "    media = (nota1 + nota2 + nota3) / 3\n",
        "    if media >= 7:\n",
        "        res = \"Aprovado\"\n",
        "    else:\n",
        "        res = \"Reprovado\"\n",
        "    return res\n",
        "\n",
        "nota1 = float(input(\"Digite a primeira nota: \"))\n",
        "nota2 = float(input(\"Digite a segunda nota: \"))\n",
        "nota3 = float(input(\"Digite a terceira nota: \"))\n",
        "\n",
        "resultado = aprovacao(nota1, nota2, nota3)\n",
        "print(resultado)\n",
        "\n",
        "\n"
      ]
    }
  ]
}