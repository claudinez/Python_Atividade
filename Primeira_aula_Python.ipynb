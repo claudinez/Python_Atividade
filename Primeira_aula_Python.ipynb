{
  "nbformat": 4,
  "nbformat_minor": 0,
  "metadata": {
    "colab": {
      "provenance": [],
      "authorship_tag": "ABX9TyPYkODh+C38jwZeCLQIE5WU",
      "include_colab_link": true
    },
    "kernelspec": {
      "name": "python3",
      "display_name": "Python 3"
    },
    "language_info": {
      "name": "python"
    }
  },
  "cells": [
    {
      "cell_type": "markdown",
      "metadata": {
        "id": "view-in-github",
        "colab_type": "text"
      },
      "source": [
        "<a href=\"https://colab.research.google.com/github/claudinez/Python_Atividade/blob/main/Primeira_aula_Python.ipynb\" target=\"_parent\"><img src=\"https://colab.research.google.com/assets/colab-badge.svg\" alt=\"Open In Colab\"/></a>"
      ]
    },
    {
      "cell_type": "code",
      "source": [
        "\n"
      ],
      "metadata": {
        "id": "bFsrcpB299iE"
      },
      "execution_count": null,
      "outputs": []
    },
    {
      "cell_type": "markdown",
      "source": [
        "# **Variaveis**"
      ],
      "metadata": {
        "id": "0x6Jn4BZ9_m3"
      }
    },
    {
      "cell_type": "code",
      "execution_count": 2,
      "metadata": {
        "colab": {
          "base_uri": "https://localhost:8080/"
        },
        "id": "TVEsRpmd9ErW",
        "outputId": "afdf7fe3-cacc-469c-ca29-78e577f94f97"
      },
      "outputs": [
        {
          "output_type": "stream",
          "name": "stdout",
          "text": [
            "5\n",
            "<class 'int'>\n",
            "Garana\n",
            "<class 'str'>\n",
            "5.99\n",
            "<class 'float'>\n"
          ]
        }
      ],
      "source": [
        "#Primeira Aula de Python\n",
        "\n",
        "numero = 5\n",
        "print(numero)\n",
        "print(type(numero))\n",
        "\n",
        "bebida_favorita = \"Garana\"\n",
        "print(bebida_favorita)\n",
        "print(type(bebida_favorita))\n",
        "\n",
        "bebida_preco = 5.99\n",
        "print(bebida_preco)\n",
        "print(type(bebida_preco))\n"
      ]
    },
    {
      "cell_type": "markdown",
      "source": [
        "# **Operadores Aritimeticos**"
      ],
      "metadata": {
        "id": "aKxY16gd9w2w"
      }
    },
    {
      "cell_type": "code",
      "source": [
        "print(5 + 8)\n",
        "\n",
        "\n",
        "almoco_favorito = \"Feijoada\"\n",
        "almoco_preco = 34.99\n",
        "bebida_preco = 5.99\n",
        "\n",
        "total = (almoco_preco + bebida_preco)\n",
        "print(total)\n",
        "\n",
        "sobremessa_favorita = \"Churros\"\n",
        "sobremessa_preco = 18.99\n",
        "convidados = 4\n",
        "\n",
        "novo_total = (almoco_preco * 4) + (bebida_preco * 3) + (sobremessa_preco * 2)\n",
        "print(novo_total)\n",
        "\n",
        "print(novo_total / convidados)\n"
      ],
      "metadata": {
        "colab": {
          "base_uri": "https://localhost:8080/"
        },
        "id": "FeLrmCFg97EM",
        "outputId": "0544dfd7-8ecb-4c88-e312-8999fb66b7b4"
      },
      "execution_count": 6,
      "outputs": [
        {
          "output_type": "stream",
          "name": "stdout",
          "text": [
            "13\n",
            "40.980000000000004\n",
            "195.91\n",
            "48.9775\n"
          ]
        }
      ]
    },
    {
      "cell_type": "markdown",
      "source": [
        "# **Operadores**"
      ],
      "metadata": {
        "id": "JVWKl4Bxc9rz"
      }
    },
    {
      "cell_type": "code",
      "source": [],
      "metadata": {
        "id": "sXj2aSzcdBJm"
      },
      "execution_count": null,
      "outputs": []
    }
  ]
}