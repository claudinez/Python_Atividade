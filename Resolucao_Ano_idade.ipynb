{
  "nbformat": 4,
  "nbformat_minor": 0,
  "metadata": {
    "colab": {
      "provenance": [],
      "authorship_tag": "ABX9TyO2303HVoCiQO1xdpeQ9Abj",
      "include_colab_link": true
    },
    "kernelspec": {
      "name": "python3",
      "display_name": "Python 3"
    },
    "language_info": {
      "name": "python"
    }
  },
  "cells": [
    {
      "cell_type": "markdown",
      "metadata": {
        "id": "view-in-github",
        "colab_type": "text"
      },
      "source": [
        "<a href=\"https://colab.research.google.com/github/claudinez/Python_Atividade/blob/main/Resolucao_Ano_idade.ipynb\" target=\"_parent\"><img src=\"https://colab.research.google.com/assets/colab-badge.svg\" alt=\"Open In Colab\"/></a>"
      ]
    },
    {
      "cell_type": "code",
      "execution_count": 2,
      "metadata": {
        "colab": {
          "base_uri": "https://localhost:8080/"
        },
        "id": "BnCWv9k3P6-5",
        "outputId": "d065b625-7b25-41a7-bb9f-16f579adebf6"
      },
      "outputs": [
        {
          "output_type": "stream",
          "name": "stdout",
          "text": [
            "Digite seu nome\n",
            "Leo\n",
            "Digite seu ano de nascimento\n",
            "2013\n",
            "O usuario Leo completou ou completara 9 anos de idade em 2022\n"
          ]
        }
      ],
      "source": [
        "print(\"Digite seu nome\")\n",
        "nome= input()\n",
        "\n",
        "executar = True\n",
        "\n",
        "while(executar == True):\n",
        "  print(\"Digite seu ano de nascimento\")\n",
        "  try:\n",
        "    ano = int(input())\n",
        "    if(ano < 1922) or (ano > 2021):\n",
        "      print(\"O ano precisa ser entre 1922 a 2021\")\n",
        "    else:\n",
        "      idade = 2022 - ano\n",
        "      print(\"O usuario\", nome, \"completou ou completara\", idade, \"anos de idade em 2022\")\n",
        "      executar = False\n",
        "  except:\n",
        "     print(\"Os anos precisam ser escritos apenas com numeros\")\n"
      ]
    },
    {
      "cell_type": "code",
      "source": [
        "print(\"hello word\")"
      ],
      "metadata": {
        "colab": {
          "base_uri": "https://localhost:8080/"
        },
        "id": "oio15XoiIR4G",
        "outputId": "397349a5-de57-4719-9b97-299eba4b58ca"
      },
      "execution_count": 1,
      "outputs": [
        {
          "output_type": "stream",
          "name": "stdout",
          "text": [
            "hello word\n"
          ]
        }
      ]
    }
  ]
}