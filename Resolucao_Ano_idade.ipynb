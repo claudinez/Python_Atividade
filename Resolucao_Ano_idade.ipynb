{
  "nbformat": 4,
  "nbformat_minor": 0,
  "metadata": {
    "colab": {
      "provenance": [],
      "authorship_tag": "ABX9TyM5OlSVQTW9aGZQ4LlCCika",
      "include_colab_link": true
    },
    "kernelspec": {
      "name": "python3",
      "display_name": "Python 3"
    },
    "language_info": {
      "name": "python"
    }
  },
  "cells": [
    {
      "cell_type": "markdown",
      "metadata": {
        "id": "view-in-github",
        "colab_type": "text"
      },
      "source": [
        "<a href=\"https://colab.research.google.com/github/claudinez/Python_Atividade/blob/main/Resolucao_Ano_idade.ipynb\" target=\"_parent\"><img src=\"https://colab.research.google.com/assets/colab-badge.svg\" alt=\"Open In Colab\"/></a>"
      ]
    },
    {
      "cell_type": "code",
      "execution_count": 5,
      "metadata": {
        "colab": {
          "base_uri": "https://localhost:8080/"
        },
        "id": "BnCWv9k3P6-5",
        "outputId": "a483e7f7-8c5d-4a73-a0f1-b7e4929ed47f"
      },
      "outputs": [
        {
          "output_type": "stream",
          "name": "stdout",
          "text": [
            "Digite seu nome\n",
            "Cla\n",
            "Digite seu ano de nascimento\n",
            "2010\n",
            "O usuario Cla completou ou completara 12 anos de idade em 2022\n"
          ]
        }
      ],
      "source": [
        "print(\"Digite seu nome\")\n",
        "nome= input()\n",
        "\n",
        "executar = True\n",
        "\n",
        "while(executar == True):\n",
        "  print(\"Digite seu ano de nascimento\")\n",
        "  try:\n",
        "    ano = int(input())\n",
        "    if(ano < 1922) or (ano > 2021):\n",
        "      print(\"O ano precisa ser entre 1922 a 2021\")\n",
        "    else:\n",
        "      idade = 2022 - ano\n",
        "      print(\"O usuario\", nome, \"completou ou completara\", idade, \"anos de idade em 2022\")\n",
        "      executar = False\n",
        "  except:\n",
        "     print(\"Os anos precisam ser escritos apenas com numeros\")\n"
      ]
    }
  ]
}